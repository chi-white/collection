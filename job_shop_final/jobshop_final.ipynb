{
 "cells": [
  {
   "cell_type": "code",
   "execution_count": 77,
   "metadata": {},
   "outputs": [],
   "source": [
    "import numpy as np\n",
    "import pandas as pd\n",
    "import matplotlib.pyplot as plt"
   ]
  },
  {
   "cell_type": "code",
   "execution_count": 2,
   "metadata": {
    "scrolled": true
   },
   "outputs": [
    {
     "name": "stdout",
     "output_type": "stream",
     "text": [
      "job_sequence\n",
      "[[0 1 2 3]\n",
      " [0 1 3 2]\n",
      " [2 0 1 3]]\n",
      "proccessing time\n",
      "[[ 9  8  4  0]\n",
      " [ 5  6  3  0]\n",
      " [10  4  9  0]]\n",
      "time_table\n",
      "[[ 9.  5.  4.]\n",
      " [ 8.  6.  9.]\n",
      " [ 4.  0. 10.]\n",
      " [ 0.  3.  0.]]\n"
     ]
    }
   ],
   "source": [
    "#import_data\n",
    "job_sequence = np.array(pd.read_excel(\"jobshop_final.xlsx\", \"sequence\"))\n",
    "job_amount = job_sequence.shape[0]\n",
    "machine_amount = job_sequence.shape[1]\n",
    "processing_time = np.array(pd.read_excel(\"jobshop_final.xlsx\", \"processing time\"))\n",
    "time_table = np.zeros((machine_amount, job_amount))#record processing time by x-machine, y-job\n",
    "for i in range(job_amount) :\n",
    "    for j in range(machine_amount) :\n",
    "        time_table[job_sequence[i][j]][i] = processing_time[i][j]\n",
    "\n",
    "print(\"job_sequence\")\n",
    "print(job_sequence)\n",
    "print(\"proccessing time\")\n",
    "print(processing_time)\n",
    "print(\"time_table\")\n",
    "print(time_table)"
   ]
  },
  {
   "cell_type": "code",
   "execution_count": 167,
   "metadata": {},
   "outputs": [],
   "source": [
    "#sub_funciton\n",
    "def find_array_index(list_, value) :\n",
    "    for index in range(len(list_)) :\n",
    "        if list_[index] == value :\n",
    "            return index\n",
    "\n",
    "def find_next_machine(selected_node, job_sequence) :#find next node of same job\n",
    "    index = find_array_index(job_sequence[selected_node[1]], selected_node[0]) + 1\n",
    "    machine = job_sequence[selected_node[1]][index]\n",
    "    return (machine, selected_node[1])\n",
    "\n",
    "def find_previous_machine(selected_node, job_sequence) : #find previous node of same job\n",
    "    index = find_array_index(job_sequence[selected_node[1]], selected_node[0]) - 1\n",
    "    machine = job_sequence[selected_node[1]][index]\n",
    "    return (machine, selected_node[1])\n",
    "\n",
    "def update_earliest_finish_time_table(selected_node, time_table, job_sequence, earliest_finish_time_table, selected_set, job_amount) :\n",
    "    #check same job time \n",
    "    if find_array_index(job_sequence[selected_node[1]], selected_node[0]) != 0 :\n",
    "        previous_node = find_previous_machine(selected_node, job_sequence)\n",
    "        earliest_finish_time = earliest_finish_time_table[previous_node[0]][previous_node[1]] + time_table[selected_node[0]][selected_node[1]]\n",
    "    else :\n",
    "        earliest_finish_time = time_table[selected_node[0]][selected_node[1]]\n",
    "     #check same machine time\n",
    "    for job in range(job_amount) :\n",
    "        if (selected_node[0], job) in selected_set :\n",
    "            if earliest_finish_time_table[selected_node[0]][job] + time_table[selected_node[0]][selected_node[1]] > earliest_finish_time :\n",
    "                earliest_finish_time = earliest_finish_time_table[selected_node[0]][job] + time_table[selected_node[0]][selected_node[1]]\n",
    "    earliest_finish_time_table[selected_node[0]][selected_node[1]] = earliest_finish_time\n",
    "    \n",
    "def min_candidate_node(candidate_set, time_table, job_sequence, earliest_finish_time_table, selected_set, job_amount) : \n",
    "    time = float(\"inf\")\n",
    "    machine = 0\n",
    "    for node in candidate_set :\n",
    "        #check same job time\n",
    "        if find_array_index(job_sequence[node[1]], node[0]) != 0 :\n",
    "            previous_node = find_previous_machine(node, job_sequence)\n",
    "            earliest_finish_time = earliest_finish_time_table[previous_node[0]][previous_node[1]] + time_table[node[0]][node[1]]\n",
    "        else :\n",
    "            earliest_finish_time = time_table[node[0]][node[1]]\n",
    "        #check same machine time\n",
    "        for job in range(job_amount) :\n",
    "            if (node[0], job) in selected_set :\n",
    "                if earliest_finish_time_table[node[0]][job] + time_table[node[0]][node[1]] > earliest_finish_time :\n",
    "                    earliest_finish_time = earliest_finish_time_table[node[0]][job] + time_table[node[0]][node[1]]\n",
    "        if earliest_finish_time < time :\n",
    "            time = earliest_finish_time\n",
    "            machine = node[0]\n",
    "    return machine\n",
    "\n",
    "def find_sub_cadidate_set(i, candidate_set) :\n",
    "    sub_cadidate_set = []\n",
    "    for node in candidate_set :\n",
    "        if node[0] == i :\n",
    "             sub_cadidate_set.append(node)\n",
    "    return sub_cadidate_set\n",
    "\n",
    "def update_machine_sequence(machine_sequence, selected_node) :\n",
    "    for sequence in range(job_amount) :\n",
    "        if machine_sequence[selected_node[0]][sequence] == -1 :#still not ocuupy\n",
    "            machine_sequence[selected_node[0]][sequence] = selected_node[1]\n",
    "            break\n",
    "\n",
    "def update_ancient_map(selected_node, selected_set, ancient_map) :\n",
    "    for job in range(job_amount) :\n",
    "        if (selected_node[0], job) in selected_set == False :\n",
    "            ancient_map[selected_node[0]][job] == selected_node      \n",
    "\n",
    "def find_Cmax_of_the_node(node, machine_sequence, ancient_map, job_sequence) :\n",
    "    forward = 0\n",
    "    backward = 0\n",
    "    #find backward\n",
    "    #culminative time of previous node same job\n",
    "    if find_array_index(job_sequence[node[1]], node[0]) != 0 :#not a first procss in same job   \n",
    "        previous_node = find_previous_machine(node, job_sequence)\n",
    "        culminative_time_same_job = earliest_finish_time_table[previous_node[0]][previous_node[1]]\n",
    "    else :\n",
    "        culminative_time_same_job = 0\n",
    "    #culminative time of previous node same machine\n",
    "    if ancient_map[node[0]][node[1]] != 0 :#not a first procss in same job \n",
    "        previous_node = ancient_map[node[0]][node[1]]\n",
    "        culminative_time_same_machine = earliest_finish_time_table[previous_node[0]][previous_node[1]]\n",
    "    else :\n",
    "        culminative_time_same_machine = 0\n",
    "    backward = max(culminative_time_same_job, culminative_time_same_machine)\n",
    "    #find forward\n",
    "    for job in range(job_amount) :\n",
    "        if (node[0], job) in selected_set == False :#only can connect with node without selected\n",
    "            if job == node[1] :#node itself\n",
    "                if sum(processing_time[processing_time[job].index(node[0]):]) > forward :\n",
    "                    forward = sum(processing_time[job][processing_time[job].index(node[0]):])\n",
    "            else :\n",
    "                if time_table[node[0]][node[1]] + sum(processing_time[job][processing_time[job].index(node[0]):]) > forward :\n",
    "                    forward = time_table[node[0]][node[1]] + sum(processing_time[processing_time[job].index(node[0]):])\n",
    "    return forward + backward                      \n",
    "    \n",
    "                \n",
    "def choose_node(sub_cadidate_set, machine_sequence, ancient_map, job_sequence, Cmax, selected_set, job_amount):\n",
    "    smallist_Camx = float(\"inf\")\n",
    "    selected_node = (-1, -1)\n",
    "    for node in sub_cadidate_set :\n",
    "        node_Cmax = find_Cmax_of_the_node(node, machine_sequence, ancient_map, job_sequence)\n",
    "        if node_Cmax < smallist_Camx :\n",
    "            smallist_Camx = node_Cmax\n",
    "            selected_node = node\n",
    "    update_earliest_finish_time_table(selected_node, time_table, job_sequence, earliest_finish_time_table, selected_set, job_amount)\n",
    "    selected_set.append(selected_node)\n",
    "    if smallist_Camx > Cmax :\n",
    "        Cmax = smallist_Camx\n",
    "    update_machine_sequence(machine_sequence, selected_node)\n",
    "    update_ancient_map(selected_node, selected_set, ancient_map)\n",
    "    return Cmax, selected_node    \n",
    "\n",
    "def adjust_selected_candidate_sets(candidate_set, selected_set, selected_node, job_sequence) :\n",
    "    selected_set.append(selected_node)\n",
    "    del candidate_set[candidate_set.index(selected_node)]\n",
    "    #add next process of same job\n",
    "    if selected_node[0] != job_sequence[selected_node[1]][-1] :#not lsat process of job\n",
    "        candidate_set.append(find_next_machine(selected_node, job_sequence))\n",
    "        \n",
    "def find_max(table) :\n",
    "    maxmum = 0\n",
    "    for i in range(len(table)) :\n",
    "        if max(table[i]) > maxmum :\n",
    "            maxmum = max(table[i])\n",
    "    return int(maxmum)\n",
    "    \n",
    "def jobshop_graph(finish_time_table, start_time_table, machine_amount, job_amount) :\n",
    "    color = ['aliceblue', 'antiquewhite', 'aqua', 'aquamarine', 'azure', 'beige', 'bisque', 'black', 'blanchedalmond', 'blue', 'blueviolet', 'brown', 'burlywood', 'cadetblue', 'chartreuse', 'chocolate', 'coral', 'cornflowerblue', 'cornsilk']\n",
    "    plt.figure(figsize=(10,5))\n",
    "    for machine in range(machine_amount) :\n",
    "        for job in range(job_amount) :\n",
    "            start_time = int(start_time_table[machine][job])\n",
    "            finish_time = int(finish_time_table[machine][job])\n",
    "            plt.plot([start_time, finish_time], [machine, machine],  linewidth = '20', color = color[job])\n",
    "            plt.xticks(range(0, find_max(finish_time_table)+1, 1))\n",
    "            plt.yticks([0,1,2,3])\n",
    "            plt.ylabel(\"machine\", fontsize = 16)\n",
    "            plt.xlabel(\"timing\", fontsize = 16)"
   ]
  },
  {
   "cell_type": "code",
   "execution_count": 168,
   "metadata": {},
   "outputs": [
    {
     "name": "stdout",
     "output_type": "stream",
     "text": [
      "[[ 0.  9. 14.]\n",
      " [ 9. 17. 23.]\n",
      " [17. 26.  0.]\n",
      " [21. 23. 32.]]\n",
      "[[ 9. 14. 18.]\n",
      " [17. 23. 32.]\n",
      " [21. 26. 10.]\n",
      " [21. 26. 32.]]\n"
     ]
    },
    {
     "data": {
      "image/png": "[encoded data removed]",
      "text/plain": [
       "<Figure size 720x360 with 1 Axes>"
      ]
     },
     "metadata": {
      "needs_background": "light"
     },
     "output_type": "display_data"
    }
   ],
   "source": [
    "#parameters\n",
    "machine_sequence = np.full((machine_amount, job_amount), -1)\n",
    "candidate_set = [] #(machine, job)\n",
    "selected_set = []\n",
    "Cmax = 0\n",
    "ancient_map = [[0 for i in range(job_amount)]for j in range(machine_amount)]#record sequence of same machine\n",
    "earliest_finish_time_table = np.zeros((machine_amount, job_amount))#record \n",
    "#initialize\n",
    "for i in range(job_amount) : #initial candidate set\n",
    "    candidate_set.append((job_sequence[i][0], i))\n",
    "for i in range(job_amount) : #initial current Cmax\n",
    "    if sum(processing_time[i][:]) > Cmax :\n",
    "            Cmax = sum(processing_time[i][:])\n",
    "#main_function\n",
    "for iteration in range(machine_amount*job_amount) :\n",
    "    i = min_candidate_node(candidate_set, time_table, job_sequence, earliest_finish_time_table, selected_set, job_amount)\n",
    "    sub_cadidate_set = find_sub_cadidate_set(i, candidate_set)\n",
    "    Cmax, selected_node = choose_node(sub_cadidate_set, machine_sequence, ancient_map, job_sequence, Cmax, selected_set, job_amount)\n",
    "    adjust_selected_candidate_sets(candidate_set, selected_set, selected_node, job_sequence)\n",
    "\n",
    "start_time_table = earliest_finish_time_table - time_table\n",
    "print(start_time_table)\n",
    "print(earliest_finish_time_table)\n",
    "jobshop_graph(earliest_finish_time_table, start_time_table, machine_amount, job_amount)"
   ]
  },
  {
   "cell_type": "code",
   "execution_count": 169,
   "metadata": {},
   "outputs": [
    {
     "data": {
      "text/plain": [
       "[<matplotlib.lines.Line2D at 0x1da10d40988>]"
      ]
     },
     "execution_count": 169,
     "metadata": {},
     "output_type": "execute_result"
    },
    {
     "data": {
      "image/png": "[encoded data removed]",
      "text/plain": [
       "<Figure size 432x288 with 1 Axes>"
      ]
     },
     "metadata": {
      "needs_background": "light"
     },
     "output_type": "display_data"
    }
   ],
   "source": []
  },
  {
   "cell_type": "code",
   "execution_count": 128,
   "metadata": {},
   "outputs": [
    {
     "data": {
      "text/plain": [
       "array([[ 9., 14., 18.],\n",
       "       [17., 23., 32.],\n",
       "       [21., 26., 10.],\n",
       "       [21., 26., 32.]])"
      ]
     },
     "execution_count": 128,
     "metadata": {},
     "output_type": "execute_result"
    }
   ],
   "source": [
    "earliest_finish_time_table"
   ]
  },
  {
   "cell_type": "code",
   "execution_count": 93,
   "metadata": {},
   "outputs": [
    {
     "data": {
      "text/plain": [
       "True"
      ]
     },
     "execution_count": 93,
     "metadata": {},
     "output_type": "execute_result"
    }
   ],
   "source": []
  },
  {
   "cell_type": "code",
   "execution_count": null,
   "metadata": {},
   "outputs": [],
   "source": []
  }
 ],
 "metadata": {
  "kernelspec": {
   "display_name": "Python 3",
   "language": "python",
   "name": "python3"
  },
  "language_info": {
   "codemirror_mode": {
    "name": "ipython",
    "version": 3
   },
   "file_extension": ".py",
   "mimetype": "text/x-python",
   "name": "python",
   "nbconvert_exporter": "python",
   "pygments_lexer": "ipython3",
   "version": "3.7.6"
  }
 },
 "nbformat": 4,
 "nbformat_minor": 4
}
